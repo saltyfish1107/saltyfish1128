{
 "cells": [
  {
   "cell_type": "code",
   "execution_count": 39,
   "metadata": {},
   "outputs": [],
   "source": [
    "class Person():\n",
    "    def __init__(self,name:str,age:int) :\n",
    "        self.__name=name\n",
    "        self.__age=age\n",
    "    def __repr__(self)->str:\n",
    "        return f'我的名字:{self.name}\\n我的age{self.age}'\n",
    "    @property\n",
    "    def name(self)->str:\n",
    "        return self.__name\n",
    "    @name.setter\n",
    "    def name(self,n):\n",
    "        print(f'不可以改名為{n}')\n",
    "    @property\n",
    "    def age(self)->int:\n",
    "        return self.__age\n",
    "    @age.setter\n",
    "    def age(self,value):\n",
    "        if value>100 or value<0:\n",
    "            print('錯誤')\n",
    "        else:\n",
    "            self.__age=value"
   ]
  },
  {
   "cell_type": "code",
   "execution_count": 59,
   "metadata": {},
   "outputs": [],
   "source": [
    "class Student(Person):\n",
    "    @classmethod\n",
    "    def echo(cls):\n",
    "        print('Hello')\n",
    "    def __init__(self, name: str, age: int, chinese:int=0 ,english:int=0, math:int=0):\n",
    "        super().__init__(name=name, age=age)\n",
    "        self.chinese=chinese\n",
    "        self.english=english\n",
    "        self.math=math\n",
    "    @property\n",
    "    def total(self)->int:\n",
    "        return self.chinese+self.english+self.math\n",
    "    def average(self)->float:\n",
    "        return round(self.total/3,ndigits=2)"
   ]
  },
  {
   "cell_type": "code",
   "execution_count": 60,
   "metadata": {},
   "outputs": [
    {
     "name": "stdout",
     "output_type": "stream",
     "text": [
      "我的名字:邱育霖\n",
      "我的age34\n",
      "71\n",
      "79\n",
      "85\n",
      "235\n",
      "78.33\n"
     ]
    }
   ],
   "source": [
    "stu1=Student(name='邱育霖',age=34,chinese=71,english=79,math=85)\n",
    "print(stu1)\n",
    "print(stu1.chinese)\n",
    "print(stu1.english)\n",
    "print(stu1.math)\n",
    "print(stu1.total)\n",
    "print(stu1.average())"
   ]
  },
  {
   "cell_type": "code",
   "execution_count": 61,
   "metadata": {},
   "outputs": [
    {
     "name": "stdout",
     "output_type": "stream",
     "text": [
      "Hello\n"
     ]
    }
   ],
   "source": [
    "Student.echo()"
   ]
  },
  {
   "cell_type": "code",
   "execution_count": null,
   "metadata": {},
   "outputs": [],
   "source": []
  }
 ],
 "metadata": {
  "kernelspec": {
   "display_name": "saltyfish",
   "language": "python",
   "name": "python3"
  },
  "language_info": {
   "codemirror_mode": {
    "name": "ipython",
    "version": 3
   },
   "file_extension": ".py",
   "mimetype": "text/x-python",
   "name": "python",
   "nbconvert_exporter": "python",
   "pygments_lexer": "ipython3",
   "version": "3.11.10"
  }
 },
 "nbformat": 4,
 "nbformat_minor": 2
}
