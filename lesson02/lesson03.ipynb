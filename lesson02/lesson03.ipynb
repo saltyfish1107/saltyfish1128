{
 "cells": [
  {
   "cell_type": "code",
   "execution_count": 39,
   "metadata": {},
   "outputs": [],
   "source": [
    "class Person():\n",
    "    def __init__(self,name:str,age:int) :\n",
    "        self.__name=name\n",
    "        self.__age=age\n",
    "    def __repr__(self)->str:\n",
    "        return f'我的名字:{self.name}\\n我的age{self.age}'\n",
    "    @property\n",
    "    def name(self)->str:\n",
    "        return self.__name\n",
    "    @name.setter\n",
    "    def name(self,n):\n",
    "        print(f'不可以改名為{n}')\n",
    "    @property\n",
    "    def age(self)->int:\n",
    "        return self.__age\n",
    "    @age.setter\n",
    "    def age(self,value):\n",
    "        if value>100 or value<0:\n",
    "            print('錯誤')\n",
    "        else:\n",
    "            self.__age=value"
   ]
  },
  {
   "cell_type": "code",
   "execution_count": 43,
   "metadata": {},
   "outputs": [
    {
     "name": "stdout",
     "output_type": "stream",
     "text": [
      "不可以改名為abc\n",
      "錯誤\n",
      "robert\n",
      "20\n",
      "=================\n",
      "邱育霖\n"
     ]
    }
   ],
   "source": [
    "p1=Person(name='robert',age=17)\n",
    "p1.name='abc'\n",
    "p1.age=170\n",
    "p1.age=20\n",
    "print(p1.name)\n",
    "print(p1.age)\n",
    "print('=================')\n",
    "p2=Person(name='邱育霖',age=23)\n",
    "print(p2.name)"
   ]
  },
  {
   "cell_type": "code",
   "execution_count": null,
   "metadata": {},
   "outputs": [],
   "source": [
    "help(p1)"
   ]
  }
 ],
 "metadata": {
  "kernelspec": {
   "display_name": "saltyfish",
   "language": "python",
   "name": "python3"
  },
  "language_info": {
   "codemirror_mode": {
    "name": "ipython",
    "version": 3
   },
   "file_extension": ".py",
   "mimetype": "text/x-python",
   "name": "python",
   "nbconvert_exporter": "python",
   "pygments_lexer": "ipython3",
   "version": "3.11.10"
  }
 },
 "nbformat": 4,
 "nbformat_minor": 2
}
