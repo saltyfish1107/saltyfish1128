{
 "cells": [
  {
   "cell_type": "code",
   "execution_count": 2,
   "metadata": {},
   "outputs": [
    {
     "name": "stdout",
     "output_type": "stream",
     "text": [
      "<class '_csv.reader'>\n",
      "['name', 'age', 'city']\n",
      "['John', '23', 'New York']\n",
      "['Jane', '29', 'Los Angeles']\n",
      "['Doe', '25', 'Chicago']\n",
      "['Anna', '22', 'Houston']\n"
     ]
    }
   ],
   "source": [
    "import csv\n",
    "with open('student.csv',encoding='utf-8') as file:\n",
    "    csvReader=csv.reader(file)\n",
    "    print(type(csvReader))\n",
    "    for row in csvReader:\n",
    "        print(row)"
   ]
  }
 ],
 "metadata": {
  "kernelspec": {
   "display_name": "saltyfish",
   "language": "python",
   "name": "python3"
  },
  "language_info": {
   "codemirror_mode": {
    "name": "ipython",
    "version": 3
   },
   "file_extension": ".py",
   "mimetype": "text/x-python",
   "name": "python",
   "nbconvert_exporter": "python",
   "pygments_lexer": "ipython3",
   "version": "3.11.10"
  }
 },
 "nbformat": 4,
 "nbformat_minor": 2
}
