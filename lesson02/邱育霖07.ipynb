{
 "cells": [
  {
   "cell_type": "code",
   "execution_count": 11,
   "metadata": {},
   "outputs": [
    {
     "name": "stdout",
     "output_type": "stream",
     "text": [
      "{'name': 'John', 'age': '23', 'city': 'New York'}\n",
      "{'name': 'Jane', 'age': '29', 'city': 'Los Angeles'}\n",
      "{'name': 'Doe', 'age': '25', 'city': 'Chicago'}\n",
      "{'name': 'Anna', 'age': '22', 'city': 'Houston'}\n",
      "\n",
      "篩選結果\n",
      "{'name': 'Jane', 'age': '29', 'city': 'Los Angeles'}\n"
     ]
    }
   ],
   "source": [
    "import csv\n",
    "f=[]\n",
    "with open('student.csv',encoding='utf-8') as file:\n",
    "    csvReader=csv.DictReader(file)\n",
    "    for row in csvReader:\n",
    "        print(row)\n",
    "        if int(row['age'])>25:\n",
    "            f.append(row)\n",
    "print('\\n篩選結果')\n",
    "for student in f:\n",
    "    print(student)"
   ]
  }
 ],
 "metadata": {
  "kernelspec": {
   "display_name": "saltyfish",
   "language": "python",
   "name": "python3"
  },
  "language_info": {
   "codemirror_mode": {
    "name": "ipython",
    "version": 3
   },
   "file_extension": ".py",
   "mimetype": "text/x-python",
   "name": "python",
   "nbconvert_exporter": "python",
   "pygments_lexer": "ipython3",
   "version": "3.11.10"
  }
 },
 "nbformat": 4,
 "nbformat_minor": 2
}
